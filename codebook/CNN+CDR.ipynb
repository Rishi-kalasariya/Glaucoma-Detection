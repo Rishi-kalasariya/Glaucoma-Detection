{
  "cells": [
    {
      "cell_type": "code",
      "execution_count": 1,
      "metadata": {
        "colab": {
          "base_uri": "https://localhost:8080/"
        },
        "id": "DytHlVL1840i",
        "outputId": "d87288f1-9a59-4b3a-e554-f4861de5ebcf"
      },
      "outputs": [
        {
          "name": "stdout",
          "output_type": "stream",
          "text": [
            "Mounted at /content/drive\n"
          ]
        }
      ],
      "source": [
        "from google.colab import drive\n",
        "drive.mount('/content/drive')"
      ]
    },
    {
      "cell_type": "code",
      "execution_count": 2,
      "metadata": {
        "_cell_guid": "b1076dfc-b9ad-4769-8c92-a6c4dae69d19",
        "_uuid": "8f2839f25d086af736a60e9eeb907d3b93b6e0e5",
        "execution": {
          "iopub.execute_input": "2025-04-20T12:19:29.680746Z",
          "iopub.status.busy": "2025-04-20T12:19:29.680434Z",
          "iopub.status.idle": "2025-04-20T12:19:41.339458Z",
          "shell.execute_reply": "2025-04-20T12:19:41.338147Z",
          "shell.execute_reply.started": "2025-04-20T12:19:29.680714Z"
        },
        "id": "s-fS_duIoulH",
        "trusted": true
      },
      "outputs": [],
      "source": [
        "import matplotlib.pyplot as plt\n",
        "import numpy as np\n",
        "import os\n",
        "import shutil\n",
        "from tensorflow import keras\n",
        "import seaborn as sns\n",
        "import random\n",
        "from keras.models import load_model\n",
        "from keras.preprocessing import image\n",
        "from tensorflow.keras.preprocessing.image import load_img, img_to_array"
      ]
    },
    {
      "cell_type": "code",
      "execution_count": 4,
      "metadata": {
        "colab": {
          "base_uri": "https://localhost:8080/"
        },
        "execution": {
          "iopub.execute_input": "2025-04-20T12:54:31.743899Z",
          "iopub.status.busy": "2025-04-20T12:54:31.743492Z",
          "iopub.status.idle": "2025-04-20T12:55:13.08243Z",
          "shell.execute_reply": "2025-04-20T12:55:13.081362Z",
          "shell.execute_reply.started": "2025-04-20T12:54:31.74387Z"
        },
        "id": "BBs7otrFoulK",
        "outputId": "606e30f5-2a93-4740-d6ec-5cf0da2d13d8",
        "trusted": true
      },
      "outputs": [
        {
          "name": "stdout",
          "output_type": "stream",
          "text": [
            "Class glaucoma: 316 training, 40 validation, 40 test\n",
            "Class normal: 247 training, 31 validation, 31 test\n"
          ]
        }
      ],
      "source": [
        "import os\n",
        "import shutil\n",
        "import numpy as np\n",
        "from sklearn.model_selection import train_test_split\n",
        "\n",
        "def split_dataset_by_class(source_dirs, class_names, output_dir, train_ratio=0.8, val_ratio=0.1, test_ratio=0.1, seed=1321):\n",
        "    # Create main output directories\n",
        "    train_dir = os.path.join(output_dir, 'train')\n",
        "    val_dir = os.path.join(output_dir, 'val')\n",
        "    test_dir = os.path.join(output_dir, 'test')\n",
        "\n",
        "    os.makedirs(train_dir, exist_ok=True)\n",
        "    os.makedirs(val_dir, exist_ok=True)\n",
        "    os.makedirs(test_dir, exist_ok=True)\n",
        "\n",
        "    # For each class (glaucoma and normal)\n",
        "    for class_dir, class_name in zip(source_dirs, class_names):\n",
        "        # Create class subdirectories within train/val/test\n",
        "        os.makedirs(os.path.join(train_dir, class_name), exist_ok=True)\n",
        "        os.makedirs(os.path.join(val_dir, class_name), exist_ok=True)\n",
        "        os.makedirs(os.path.join(test_dir, class_name), exist_ok=True)\n",
        "\n",
        "        # Get all files for this class\n",
        "        files = os.listdir(class_dir)\n",
        "\n",
        "        # First split: training and the rest\n",
        "        train_files, temp_files = train_test_split(\n",
        "            files, train_size=train_ratio, random_state=seed\n",
        "        )\n",
        "\n",
        "        # Second split: validation and test\n",
        "        val_ratio_adjusted = val_ratio / (val_ratio + test_ratio)\n",
        "        val_files, test_files = train_test_split(\n",
        "            temp_files, train_size=val_ratio_adjusted, random_state=seed\n",
        "        )\n",
        "\n",
        "        # Copy files to class subdirectories\n",
        "        for file in train_files:\n",
        "            shutil.copy2(os.path.join(class_dir, file), os.path.join(train_dir, class_name, file))\n",
        "\n",
        "        for file in val_files:\n",
        "            shutil.copy2(os.path.join(class_dir, file), os.path.join(val_dir, class_name, file))\n",
        "\n",
        "        for file in test_files:\n",
        "            shutil.copy2(os.path.join(class_dir, file), os.path.join(test_dir, class_name, file))\n",
        "\n",
        "        print(f\"Class {class_name}: {len(train_files)} training, {len(val_files)} validation, {len(test_files)} test\")\n",
        "\n",
        "# Example usage with your combined directories\n",
        "glaucoma_dir = '/content/drive/MyDrive/Leetcode images/datasets/ACRIMA/glaucoma'\n",
        "normal_dir = '/content/drive/MyDrive/Leetcode images/datasets/ACRIMA/normal'\n",
        "\n",
        "# Run the function\n",
        "split_dataset_by_class(\n",
        "    source_dirs=[glaucoma_dir, normal_dir],\n",
        "    class_names=['glaucoma', 'normal'],\n",
        "    output_dir='images',\n",
        "    seed=1321\n",
        ")"
      ]
    },
    {
      "cell_type": "code",
      "execution_count": 5,
      "metadata": {
        "execution": {
          "iopub.execute_input": "2025-04-20T12:55:29.202465Z",
          "iopub.status.busy": "2025-04-20T12:55:29.202064Z",
          "iopub.status.idle": "2025-04-20T12:55:29.208563Z",
          "shell.execute_reply": "2025-04-20T12:55:29.207148Z",
          "shell.execute_reply.started": "2025-04-20T12:55:29.202438Z"
        },
        "id": "LW-UA4TroulL",
        "trusted": true
      },
      "outputs": [],
      "source": [
        "img_height=256\n",
        "img_width=256\n",
        "batch_size=32"
      ]
    },
    {
      "cell_type": "code",
      "execution_count": 6,
      "metadata": {
        "id": "eb8K1XO__FYv"
      },
      "outputs": [],
      "source": [
        "from tensorflow.keras.preprocessing.image import ImageDataGenerator"
      ]
    },
    {
      "cell_type": "code",
      "execution_count": 7,
      "metadata": {
        "colab": {
          "base_uri": "https://localhost:8080/"
        },
        "execution": {
          "iopub.execute_input": "2025-04-20T12:55:34.363623Z",
          "iopub.status.busy": "2025-04-20T12:55:34.362405Z",
          "iopub.status.idle": "2025-04-20T12:55:34.671629Z",
          "shell.execute_reply": "2025-04-20T12:55:34.670442Z",
          "shell.execute_reply.started": "2025-04-20T12:55:34.363588Z"
        },
        "id": "1Dj67_XJoulL",
        "outputId": "d6d591d7-8fc0-403c-845e-3a190abc80eb",
        "trusted": true
      },
      "outputs": [
        {
          "name": "stdout",
          "output_type": "stream",
          "text": [
            "Found 563 images belonging to 2 classes.\n",
            "Found 71 images belonging to 2 classes.\n",
            "Found 71 images belonging to 2 classes.\n"
          ]
        }
      ],
      "source": [
        "#from keras.preprocessing.image import ImageDataGenerator\n",
        "\n",
        "datagen = ImageDataGenerator(rescale=1./255,\n",
        "shear_range = 0.15,\n",
        "zoom_range = 0.15,\n",
        "horizontal_flip = True)\n",
        "train_ds = datagen.flow_from_directory(\n",
        "    'images/train',\n",
        "    target_size = (img_height, img_width),\n",
        "    batch_size = batch_size,\n",
        "    class_mode='categorical',\n",
        "    shuffle=False)\n",
        "\n",
        "val_ds = datagen.flow_from_directory(\n",
        "    'images/val',\n",
        "    target_size = (img_height, img_width),\n",
        "    batch_size = batch_size,\n",
        "    class_mode='categorical',\n",
        "    shuffle=False)\n",
        "\n",
        "test_ds = datagen.flow_from_directory(\n",
        "    'images/test',\n",
        "    target_size = (img_height, img_width),\n",
        "    batch_size = batch_size,\n",
        "    class_mode='categorical',\n",
        "    shuffle=False)"
      ]
    },
    {
      "cell_type": "code",
      "execution_count": 8,
      "metadata": {
        "id": "ozAtaoj_83BS"
      },
      "outputs": [],
      "source": [
        "import joblib"
      ]
    },
    {
      "cell_type": "code",
      "execution_count": 12,
      "metadata": {
        "id": "42EJawyE_XIU"
      },
      "outputs": [],
      "source": [
        "# Load model and preprocessors\n",
        "cdr_model = joblib.load('ensemble_cdr_model.pkl')\n",
        "selector = joblib.load('selector.pkl')\n",
        "scaler = joblib.load('scaler.pkl')"
      ]
    },
    {
      "cell_type": "code",
      "execution_count": 9,
      "metadata": {
        "id": "ZywHP0LI_P7p"
      },
      "outputs": [],
      "source": [
        "def extract_features(img_path):\n",
        "    img = cv2.imread(img_path)\n",
        "    if img is None:\n",
        "        return None\n",
        "    # Preprocessing\n",
        "    gray = cv2.cvtColor(img, cv2.COLOR_BGR2GRAY)\n",
        "    clahe = cv2.createCLAHE(clipLimit=3.0, tileGridSize=(8,8))\n",
        "    enhanced = clahe.apply(gray)\n",
        "\n",
        "    # Vessel detection\n",
        "    edges = cv2.Canny(enhanced, 50, 150)\n",
        "    vessel_density = np.mean(edges)\n",
        "\n",
        "    # Texture features\n",
        "    glcm = cv2.calcHist([enhanced], [0], None, [256], [0,256])\n",
        "    glcm = cv2.normalize(glcm, None).flatten()\n",
        "\n",
        "    # Shape features\n",
        "    moments = cv2.HuMoments(cv2.moments(edges)).flatten()\n",
        "\n",
        "    return [\n",
        "        np.mean(enhanced),          # Global intensity\n",
        "        np.std(enhanced),           # Contrast\n",
        "        vessel_density,             # Edge density\n",
        "        enhanced[116:166, 116:166].mean(),  # Center region\n",
        "        glcm[100],                  # Texture measure\n",
        "        moments[0],                 # Hu moment 1\n",
        "        moments[1]                  # Hu moment 2\n",
        "    ]"
      ]
    },
    {
      "cell_type": "code",
      "execution_count": 10,
      "metadata": {
        "id": "XyQrU8W4_pgX"
      },
      "outputs": [],
      "source": [
        "def find_cdr(img_path):\n",
        "  features = extract_features(img_path)\n",
        "  features_scaled = scaler.transform([features])\n",
        "  features_selected = selector.transform(features_scaled)\n",
        "  # Predict CDR\n",
        "  cdr_pred = cdr_model.predict(features_selected)[0]\n",
        "  return cdr_pred"
      ]
    },
    {
      "cell_type": "code",
      "execution_count": 11,
      "metadata": {
        "id": "qQCCkXUp9QMD"
      },
      "outputs": [],
      "source": [
        "import cv2"
      ]
    },
    {
      "cell_type": "code",
      "execution_count": null,
      "metadata": {
        "colab": {
          "base_uri": "https://localhost:8080/"
        },
        "id": "tvXNaR3Zl_Zf",
        "outputId": "bafff97d-ded0-4f63-b3d8-e9ffb450c8a5"
      },
      "outputs": [
        {
          "name": "stdout",
          "output_type": "stream",
          "text": [
            "Requirement already satisfied: opencv-python in /usr/local/lib/python3.11/dist-packages (4.11.0.86)\n",
            "Requirement already satisfied: scikit-image in /usr/local/lib/python3.11/dist-packages (0.25.2)\n",
            "Requirement already satisfied: tqdm in /usr/local/lib/python3.11/dist-packages (4.67.1)\n",
            "Requirement already satisfied: numpy>=1.21.2 in /usr/local/lib/python3.11/dist-packages (from opencv-python) (2.0.2)\n",
            "Requirement already satisfied: scipy>=1.11.4 in /usr/local/lib/python3.11/dist-packages (from scikit-image) (1.14.1)\n",
            "Requirement already satisfied: networkx>=3.0 in /usr/local/lib/python3.11/dist-packages (from scikit-image) (3.4.2)\n",
            "Requirement already satisfied: pillow>=10.1 in /usr/local/lib/python3.11/dist-packages (from scikit-image) (11.1.0)\n",
            "Requirement already satisfied: imageio!=2.35.0,>=2.33 in /usr/local/lib/python3.11/dist-packages (from scikit-image) (2.37.0)\n",
            "Requirement already satisfied: tifffile>=2022.8.12 in /usr/local/lib/python3.11/dist-packages (from scikit-image) (2025.3.30)\n",
            "Requirement already satisfied: packaging>=21 in /usr/local/lib/python3.11/dist-packages (from scikit-image) (24.2)\n",
            "Requirement already satisfied: lazy-loader>=0.4 in /usr/local/lib/python3.11/dist-packages (from scikit-image) (0.4)\n",
            "→ Found 316 images for train/glaucoma\n",
            "→ Found 247 images for train/normal\n",
            "→ Found 40 images for val/glaucoma\n",
            "→ Found 31 images for val/normal\n",
            "→ Found 40 images for test/glaucoma\n",
            "→ Found 31 images for test/normal\n",
            "✅ Saved 705 rows to /content/images/labels_with_cdr.csv\n"
          ]
        }
      ],
      "source": [
        "# 2) Install any missing dependencies (if utils/cdr_utils needs OpenCV, scikit‑image, etc.)\n",
        "!pip install opencv-python scikit-image tqdm\n",
        "\n",
        "# 3) Adjust this to point at where your “images/” folder actually lives\n",
        "IMG_ROOT = '/content/images'\n",
        "CSV_OUT  = '/content/images/labels_with_cdr.csv'\n",
        "\n",
        "import pandas as pd\n",
        "import glob\n",
        "from pathlib import Path\n",
        "\n",
        "rows = []\n",
        "for split in ['train', 'val', 'test']:\n",
        "    for label in ['glaucoma', 'normal']:\n",
        "        pattern = f\"{IMG_ROOT}/{split}/{label}/*.*\"\n",
        "        file_list = glob.glob(pattern)\n",
        "        print(f\"→ Found {len(file_list)} images for {split}/{label}\")\n",
        "        for img_path in file_list:\n",
        "            try:\n",
        "                cdr_value = find_cdr(img_path)\n",
        "            except Exception as e:\n",
        "                print(f\"  ⚠️ Failed on {img_path}: {e}\")\n",
        "                continue\n",
        "            rows.append({\n",
        "                'path': img_path,\n",
        "                'label': 1 if label=='glaucoma' else 0,\n",
        "                'cdr': cdr_value\n",
        "            })\n",
        "\n",
        "# 4) Save out the CSV\n",
        "df = pd.DataFrame(rows)\n",
        "Path(Path(CSV_OUT).parent).mkdir(parents=True, exist_ok=True)\n",
        "df.to_csv(CSV_OUT, index=False)\n",
        "print(f\"✅ Saved {len(df)} rows to {CSV_OUT}\")\n"
      ]
    },
    {
      "cell_type": "code",
      "execution_count": 14,
      "metadata": {
        "id": "WrHjrP-Ly1Iq"
      },
      "outputs": [],
      "source": [
        "IMG_ROOT = '/content/images'             # adjust if needed\n",
        "CSV_PATH = os.path.join(IMG_ROOT, 'labels_with_cdr.csv')\n",
        "batch_size = 32\n",
        "class_names = ['normal', 'glaucoma']\n",
        "num_classes = len(class_names)"
      ]
    },
    {
      "cell_type": "code",
      "execution_count": 15,
      "metadata": {
        "id": "r_ruR9eCJt_z"
      },
      "outputs": [],
      "source": [
        "import pandas as pd"
      ]
    },
    {
      "cell_type": "code",
      "execution_count": 16,
      "metadata": {
        "id": "EaO3EgS8y3VS"
      },
      "outputs": [],
      "source": [
        "df = pd.read_csv(CSV_PATH)\n",
        "# Ensure correct types\n",
        "df['cdr'] = df['cdr'].astype(np.float32)\n",
        "df['label'] = df['label'].astype(int)\n",
        "\n",
        "# Split by folder names\n",
        "df_train = df[df['path'].str.contains(f\"{os.sep}train{os.sep}\")]\n",
        "df_val   = df[df['path'].str.contains(f\"{os.sep}val{os.sep}\")]\n",
        "df_test  = df[df['path'].str.contains(f\"{os.sep}test{os.sep}\")]\n"
      ]
    },
    {
      "cell_type": "code",
      "execution_count": 17,
      "metadata": {
        "id": "v53ikKAE-JUL"
      },
      "outputs": [],
      "source": [
        "import tensorflow as tf"
      ]
    },
    {
      "cell_type": "code",
      "execution_count": 18,
      "metadata": {
        "id": "5oeyhQLsy6Ei"
      },
      "outputs": [],
      "source": [
        "def df_to_data(df_split):\n",
        "    paths = df_split['path'].tolist()\n",
        "    labels = tf.keras.utils.to_categorical(df_split['label'], num_classes)\n",
        "    cdrs = df_split['cdr'].values.reshape(-1, 1)\n",
        "    return paths, labels, cdrs\n",
        "\n",
        "train_image_paths, train_labels, train_cdr_values = df_to_data(df_train)\n",
        "val_image_paths,   val_labels,   val_cdr_values   = df_to_data(df_val)\n",
        "test_image_paths,  test_labels,  test_cdr_values  = df_to_data(df_test)\n"
      ]
    },
    {
      "cell_type": "code",
      "execution_count": 19,
      "metadata": {
        "id": "6C9p4GhDy9V7"
      },
      "outputs": [],
      "source": [
        "def preprocess(image_path, cdr, label):\n",
        "    # Read, decode, resize, normalize\n",
        "    image = tf.io.read_file(image_path)\n",
        "    image = tf.image.decode_jpeg(image, channels=3)\n",
        "    image = tf.image.resize(image, [256, 256]) / 255.0\n",
        "    # Cast and reshape cdr\n",
        "    cdr = tf.cast(cdr, tf.float32)\n",
        "    cdr = tf.reshape(cdr, [1])\n",
        "    return (image, cdr), label\n"
      ]
    },
    {
      "cell_type": "code",
      "execution_count": 20,
      "metadata": {
        "id": "mgu4qK-hy_21"
      },
      "outputs": [],
      "source": [
        "def make_dataset(paths, cdrs, labels, shuffle=True):\n",
        "    ds = tf.data.Dataset.from_tensor_slices((paths, cdrs, labels))\n",
        "    ds = ds.map(preprocess, num_parallel_calls=tf.data.AUTOTUNE)\n",
        "    if shuffle:\n",
        "        ds = ds.shuffle(buffer_size=len(paths))\n",
        "    return ds.batch(batch_size).prefetch(tf.data.AUTOTUNE)\n",
        "\n",
        "train_ds = make_dataset(train_image_paths, train_cdr_values, train_labels, shuffle=True)\n",
        "val_ds   = make_dataset(val_image_paths,   val_cdr_values,   val_labels,   shuffle=False)\n",
        "test_ds  = make_dataset(test_image_paths,  test_cdr_values,  test_labels,  shuffle=False)\n"
      ]
    },
    {
      "cell_type": "code",
      "execution_count": 21,
      "metadata": {
        "id": "VP6ASU0S1rHN"
      },
      "outputs": [],
      "source": [
        "from keras.layers import (\n",
        "    Conv2D, MaxPooling2D, Flatten,\n",
        "    Dense, Dropout, BatchNormalization,\n",
        "    Input, Concatenate, Lambda\n",
        ")\n",
        "from keras.models import Model"
      ]
    },
    {
      "cell_type": "code",
      "execution_count": 22,
      "metadata": {
        "colab": {
          "base_uri": "https://localhost:8080/",
          "height": 710
        },
        "id": "anvTmaWmzDZ8",
        "outputId": "1c31172c-69d5-45ac-f776-59bddf5d0068"
      },
      "outputs": [
        {
          "data": {
            "text/html": [
              "<pre style=\"white-space:pre;overflow-x:auto;line-height:normal;font-family:Menlo,'DejaVu Sans Mono',consolas,'Courier New',monospace\"><span style=\"font-weight: bold\">Model: \"GlaucomaNet\"</span>\n",
              "</pre>\n"
            ],
            "text/plain": [
              "\u001b[1mModel: \"GlaucomaNet\"\u001b[0m\n"
            ]
          },
          "metadata": {},
          "output_type": "display_data"
        },
        {
          "data": {
            "text/html": [
              "<pre style=\"white-space:pre;overflow-x:auto;line-height:normal;font-family:Menlo,'DejaVu Sans Mono',consolas,'Courier New',monospace\">┏━━━━━━━━━━━━━━━━━━━━━┳━━━━━━━━━━━━━━━━━━━┳━━━━━━━━━━━━┳━━━━━━━━━━━━━━━━━━━┓\n",
              "┃<span style=\"font-weight: bold\"> Layer (type)        </span>┃<span style=\"font-weight: bold\"> Output Shape      </span>┃<span style=\"font-weight: bold\">    Param # </span>┃<span style=\"font-weight: bold\"> Connected to      </span>┃\n",
              "┡━━━━━━━━━━━━━━━━━━━━━╇━━━━━━━━━━━━━━━━━━━╇━━━━━━━━━━━━╇━━━━━━━━━━━━━━━━━━━┩\n",
              "│ image_input         │ (<span style=\"color: #00d7ff; text-decoration-color: #00d7ff\">None</span>, <span style=\"color: #00af00; text-decoration-color: #00af00\">256</span>, <span style=\"color: #00af00; text-decoration-color: #00af00\">256</span>,  │          <span style=\"color: #00af00; text-decoration-color: #00af00\">0</span> │ -                 │\n",
              "│ (<span style=\"color: #0087ff; text-decoration-color: #0087ff\">InputLayer</span>)        │ <span style=\"color: #00af00; text-decoration-color: #00af00\">3</span>)                │            │                   │\n",
              "├─────────────────────┼───────────────────┼────────────┼───────────────────┤\n",
              "│ conv2d (<span style=\"color: #0087ff; text-decoration-color: #0087ff\">Conv2D</span>)     │ (<span style=\"color: #00d7ff; text-decoration-color: #00d7ff\">None</span>, <span style=\"color: #00af00; text-decoration-color: #00af00\">254</span>, <span style=\"color: #00af00; text-decoration-color: #00af00\">254</span>,  │        <span style=\"color: #00af00; text-decoration-color: #00af00\">896</span> │ image_input[<span style=\"color: #00af00; text-decoration-color: #00af00\">0</span>][<span style=\"color: #00af00; text-decoration-color: #00af00\">0</span>] │\n",
              "│                     │ <span style=\"color: #00af00; text-decoration-color: #00af00\">32</span>)               │            │                   │\n",
              "├─────────────────────┼───────────────────┼────────────┼───────────────────┤\n",
              "│ max_pooling2d       │ (<span style=\"color: #00d7ff; text-decoration-color: #00d7ff\">None</span>, <span style=\"color: #00af00; text-decoration-color: #00af00\">127</span>, <span style=\"color: #00af00; text-decoration-color: #00af00\">127</span>,  │          <span style=\"color: #00af00; text-decoration-color: #00af00\">0</span> │ conv2d[<span style=\"color: #00af00; text-decoration-color: #00af00\">0</span>][<span style=\"color: #00af00; text-decoration-color: #00af00\">0</span>]      │\n",
              "│ (<span style=\"color: #0087ff; text-decoration-color: #0087ff\">MaxPooling2D</span>)      │ <span style=\"color: #00af00; text-decoration-color: #00af00\">32</span>)               │            │                   │\n",
              "├─────────────────────┼───────────────────┼────────────┼───────────────────┤\n",
              "│ conv2d_1 (<span style=\"color: #0087ff; text-decoration-color: #0087ff\">Conv2D</span>)   │ (<span style=\"color: #00d7ff; text-decoration-color: #00d7ff\">None</span>, <span style=\"color: #00af00; text-decoration-color: #00af00\">125</span>, <span style=\"color: #00af00; text-decoration-color: #00af00\">125</span>,  │      <span style=\"color: #00af00; text-decoration-color: #00af00\">9,248</span> │ max_pooling2d[<span style=\"color: #00af00; text-decoration-color: #00af00\">0</span>]… │\n",
              "│                     │ <span style=\"color: #00af00; text-decoration-color: #00af00\">32</span>)               │            │                   │\n",
              "├─────────────────────┼───────────────────┼────────────┼───────────────────┤\n",
              "│ max_pooling2d_1     │ (<span style=\"color: #00d7ff; text-decoration-color: #00d7ff\">None</span>, <span style=\"color: #00af00; text-decoration-color: #00af00\">62</span>, <span style=\"color: #00af00; text-decoration-color: #00af00\">62</span>,    │          <span style=\"color: #00af00; text-decoration-color: #00af00\">0</span> │ conv2d_1[<span style=\"color: #00af00; text-decoration-color: #00af00\">0</span>][<span style=\"color: #00af00; text-decoration-color: #00af00\">0</span>]    │\n",
              "│ (<span style=\"color: #0087ff; text-decoration-color: #0087ff\">MaxPooling2D</span>)      │ <span style=\"color: #00af00; text-decoration-color: #00af00\">32</span>)               │            │                   │\n",
              "├─────────────────────┼───────────────────┼────────────┼───────────────────┤\n",
              "│ cdr_input           │ (<span style=\"color: #00d7ff; text-decoration-color: #00d7ff\">None</span>, <span style=\"color: #00af00; text-decoration-color: #00af00\">1</span>)         │          <span style=\"color: #00af00; text-decoration-color: #00af00\">0</span> │ -                 │\n",
              "│ (<span style=\"color: #0087ff; text-decoration-color: #0087ff\">InputLayer</span>)        │                   │            │                   │\n",
              "├─────────────────────┼───────────────────┼────────────┼───────────────────┤\n",
              "│ flatten (<span style=\"color: #0087ff; text-decoration-color: #0087ff\">Flatten</span>)   │ (<span style=\"color: #00d7ff; text-decoration-color: #00d7ff\">None</span>, <span style=\"color: #00af00; text-decoration-color: #00af00\">123008</span>)    │          <span style=\"color: #00af00; text-decoration-color: #00af00\">0</span> │ max_pooling2d_1[<span style=\"color: #00af00; text-decoration-color: #00af00\">…</span> │\n",
              "├─────────────────────┼───────────────────┼────────────┼───────────────────┤\n",
              "│ cdr_tile (<span style=\"color: #0087ff; text-decoration-color: #0087ff\">Lambda</span>)   │ (<span style=\"color: #00d7ff; text-decoration-color: #00d7ff\">None</span>, <span style=\"color: #00af00; text-decoration-color: #00af00\">32</span>)        │          <span style=\"color: #00af00; text-decoration-color: #00af00\">0</span> │ cdr_input[<span style=\"color: #00af00; text-decoration-color: #00af00\">0</span>][<span style=\"color: #00af00; text-decoration-color: #00af00\">0</span>]   │\n",
              "├─────────────────────┼───────────────────┼────────────┼───────────────────┤\n",
              "│ feature_concat      │ (<span style=\"color: #00d7ff; text-decoration-color: #00d7ff\">None</span>, <span style=\"color: #00af00; text-decoration-color: #00af00\">123040</span>)    │          <span style=\"color: #00af00; text-decoration-color: #00af00\">0</span> │ flatten[<span style=\"color: #00af00; text-decoration-color: #00af00\">0</span>][<span style=\"color: #00af00; text-decoration-color: #00af00\">0</span>],    │\n",
              "│ (<span style=\"color: #0087ff; text-decoration-color: #0087ff\">Concatenate</span>)       │                   │            │ cdr_tile[<span style=\"color: #00af00; text-decoration-color: #00af00\">0</span>][<span style=\"color: #00af00; text-decoration-color: #00af00\">0</span>]    │\n",
              "├─────────────────────┼───────────────────┼────────────┼───────────────────┤\n",
              "│ dense_1 (<span style=\"color: #0087ff; text-decoration-color: #0087ff\">Dense</span>)     │ (<span style=\"color: #00d7ff; text-decoration-color: #00d7ff\">None</span>, <span style=\"color: #00af00; text-decoration-color: #00af00\">512</span>)       │ <span style=\"color: #00af00; text-decoration-color: #00af00\">62,996,992</span> │ feature_concat[<span style=\"color: #00af00; text-decoration-color: #00af00\">0</span>… │\n",
              "├─────────────────────┼───────────────────┼────────────┼───────────────────┤\n",
              "│ bn_1                │ (<span style=\"color: #00d7ff; text-decoration-color: #00d7ff\">None</span>, <span style=\"color: #00af00; text-decoration-color: #00af00\">512</span>)       │      <span style=\"color: #00af00; text-decoration-color: #00af00\">2,048</span> │ dense_1[<span style=\"color: #00af00; text-decoration-color: #00af00\">0</span>][<span style=\"color: #00af00; text-decoration-color: #00af00\">0</span>]     │\n",
              "│ (<span style=\"color: #0087ff; text-decoration-color: #0087ff\">BatchNormalizatio…</span> │                   │            │                   │\n",
              "├─────────────────────┼───────────────────┼────────────┼───────────────────┤\n",
              "│ dense_2 (<span style=\"color: #0087ff; text-decoration-color: #0087ff\">Dense</span>)     │ (<span style=\"color: #00d7ff; text-decoration-color: #00d7ff\">None</span>, <span style=\"color: #00af00; text-decoration-color: #00af00\">256</span>)       │    <span style=\"color: #00af00; text-decoration-color: #00af00\">131,328</span> │ bn_1[<span style=\"color: #00af00; text-decoration-color: #00af00\">0</span>][<span style=\"color: #00af00; text-decoration-color: #00af00\">0</span>]        │\n",
              "├─────────────────────┼───────────────────┼────────────┼───────────────────┤\n",
              "│ dropout (<span style=\"color: #0087ff; text-decoration-color: #0087ff\">Dropout</span>)   │ (<span style=\"color: #00d7ff; text-decoration-color: #00d7ff\">None</span>, <span style=\"color: #00af00; text-decoration-color: #00af00\">256</span>)       │          <span style=\"color: #00af00; text-decoration-color: #00af00\">0</span> │ dense_2[<span style=\"color: #00af00; text-decoration-color: #00af00\">0</span>][<span style=\"color: #00af00; text-decoration-color: #00af00\">0</span>]     │\n",
              "├─────────────────────┼───────────────────┼────────────┼───────────────────┤\n",
              "│ output (<span style=\"color: #0087ff; text-decoration-color: #0087ff\">Dense</span>)      │ (<span style=\"color: #00d7ff; text-decoration-color: #00d7ff\">None</span>, <span style=\"color: #00af00; text-decoration-color: #00af00\">2</span>)         │        <span style=\"color: #00af00; text-decoration-color: #00af00\">514</span> │ dropout[<span style=\"color: #00af00; text-decoration-color: #00af00\">0</span>][<span style=\"color: #00af00; text-decoration-color: #00af00\">0</span>]     │\n",
              "└─────────────────────┴───────────────────┴────────────┴───────────────────┘\n",
              "</pre>\n"
            ],
            "text/plain": [
              "┏━━━━━━━━━━━━━━━━━━━━━┳━━━━━━━━━━━━━━━━━━━┳━━━━━━━━━━━━┳━━━━━━━━━━━━━━━━━━━┓\n",
              "┃\u001b[1m \u001b[0m\u001b[1mLayer (type)       \u001b[0m\u001b[1m \u001b[0m┃\u001b[1m \u001b[0m\u001b[1mOutput Shape     \u001b[0m\u001b[1m \u001b[0m┃\u001b[1m \u001b[0m\u001b[1m   Param #\u001b[0m\u001b[1m \u001b[0m┃\u001b[1m \u001b[0m\u001b[1mConnected to     \u001b[0m\u001b[1m \u001b[0m┃\n",
              "┡━━━━━━━━━━━━━━━━━━━━━╇━━━━━━━━━━━━━━━━━━━╇━━━━━━━━━━━━╇━━━━━━━━━━━━━━━━━━━┩\n",
              "│ image_input         │ (\u001b[38;5;45mNone\u001b[0m, \u001b[38;5;34m256\u001b[0m, \u001b[38;5;34m256\u001b[0m,  │          \u001b[38;5;34m0\u001b[0m │ -                 │\n",
              "│ (\u001b[38;5;33mInputLayer\u001b[0m)        │ \u001b[38;5;34m3\u001b[0m)                │            │                   │\n",
              "├─────────────────────┼───────────────────┼────────────┼───────────────────┤\n",
              "│ conv2d (\u001b[38;5;33mConv2D\u001b[0m)     │ (\u001b[38;5;45mNone\u001b[0m, \u001b[38;5;34m254\u001b[0m, \u001b[38;5;34m254\u001b[0m,  │        \u001b[38;5;34m896\u001b[0m │ image_input[\u001b[38;5;34m0\u001b[0m][\u001b[38;5;34m0\u001b[0m] │\n",
              "│                     │ \u001b[38;5;34m32\u001b[0m)               │            │                   │\n",
              "├─────────────────────┼───────────────────┼────────────┼───────────────────┤\n",
              "│ max_pooling2d       │ (\u001b[38;5;45mNone\u001b[0m, \u001b[38;5;34m127\u001b[0m, \u001b[38;5;34m127\u001b[0m,  │          \u001b[38;5;34m0\u001b[0m │ conv2d[\u001b[38;5;34m0\u001b[0m][\u001b[38;5;34m0\u001b[0m]      │\n",
              "│ (\u001b[38;5;33mMaxPooling2D\u001b[0m)      │ \u001b[38;5;34m32\u001b[0m)               │            │                   │\n",
              "├─────────────────────┼───────────────────┼────────────┼───────────────────┤\n",
              "│ conv2d_1 (\u001b[38;5;33mConv2D\u001b[0m)   │ (\u001b[38;5;45mNone\u001b[0m, \u001b[38;5;34m125\u001b[0m, \u001b[38;5;34m125\u001b[0m,  │      \u001b[38;5;34m9,248\u001b[0m │ max_pooling2d[\u001b[38;5;34m0\u001b[0m]… │\n",
              "│                     │ \u001b[38;5;34m32\u001b[0m)               │            │                   │\n",
              "├─────────────────────┼───────────────────┼────────────┼───────────────────┤\n",
              "│ max_pooling2d_1     │ (\u001b[38;5;45mNone\u001b[0m, \u001b[38;5;34m62\u001b[0m, \u001b[38;5;34m62\u001b[0m,    │          \u001b[38;5;34m0\u001b[0m │ conv2d_1[\u001b[38;5;34m0\u001b[0m][\u001b[38;5;34m0\u001b[0m]    │\n",
              "│ (\u001b[38;5;33mMaxPooling2D\u001b[0m)      │ \u001b[38;5;34m32\u001b[0m)               │            │                   │\n",
              "├─────────────────────┼───────────────────┼────────────┼───────────────────┤\n",
              "│ cdr_input           │ (\u001b[38;5;45mNone\u001b[0m, \u001b[38;5;34m1\u001b[0m)         │          \u001b[38;5;34m0\u001b[0m │ -                 │\n",
              "│ (\u001b[38;5;33mInputLayer\u001b[0m)        │                   │            │                   │\n",
              "├─────────────────────┼───────────────────┼────────────┼───────────────────┤\n",
              "│ flatten (\u001b[38;5;33mFlatten\u001b[0m)   │ (\u001b[38;5;45mNone\u001b[0m, \u001b[38;5;34m123008\u001b[0m)    │          \u001b[38;5;34m0\u001b[0m │ max_pooling2d_1[\u001b[38;5;34m…\u001b[0m │\n",
              "├─────────────────────┼───────────────────┼────────────┼───────────────────┤\n",
              "│ cdr_tile (\u001b[38;5;33mLambda\u001b[0m)   │ (\u001b[38;5;45mNone\u001b[0m, \u001b[38;5;34m32\u001b[0m)        │          \u001b[38;5;34m0\u001b[0m │ cdr_input[\u001b[38;5;34m0\u001b[0m][\u001b[38;5;34m0\u001b[0m]   │\n",
              "├─────────────────────┼───────────────────┼────────────┼───────────────────┤\n",
              "│ feature_concat      │ (\u001b[38;5;45mNone\u001b[0m, \u001b[38;5;34m123040\u001b[0m)    │          \u001b[38;5;34m0\u001b[0m │ flatten[\u001b[38;5;34m0\u001b[0m][\u001b[38;5;34m0\u001b[0m],    │\n",
              "│ (\u001b[38;5;33mConcatenate\u001b[0m)       │                   │            │ cdr_tile[\u001b[38;5;34m0\u001b[0m][\u001b[38;5;34m0\u001b[0m]    │\n",
              "├─────────────────────┼───────────────────┼────────────┼───────────────────┤\n",
              "│ dense_1 (\u001b[38;5;33mDense\u001b[0m)     │ (\u001b[38;5;45mNone\u001b[0m, \u001b[38;5;34m512\u001b[0m)       │ \u001b[38;5;34m62,996,992\u001b[0m │ feature_concat[\u001b[38;5;34m0\u001b[0m… │\n",
              "├─────────────────────┼───────────────────┼────────────┼───────────────────┤\n",
              "│ bn_1                │ (\u001b[38;5;45mNone\u001b[0m, \u001b[38;5;34m512\u001b[0m)       │      \u001b[38;5;34m2,048\u001b[0m │ dense_1[\u001b[38;5;34m0\u001b[0m][\u001b[38;5;34m0\u001b[0m]     │\n",
              "│ (\u001b[38;5;33mBatchNormalizatio…\u001b[0m │                   │            │                   │\n",
              "├─────────────────────┼───────────────────┼────────────┼───────────────────┤\n",
              "│ dense_2 (\u001b[38;5;33mDense\u001b[0m)     │ (\u001b[38;5;45mNone\u001b[0m, \u001b[38;5;34m256\u001b[0m)       │    \u001b[38;5;34m131,328\u001b[0m │ bn_1[\u001b[38;5;34m0\u001b[0m][\u001b[38;5;34m0\u001b[0m]        │\n",
              "├─────────────────────┼───────────────────┼────────────┼───────────────────┤\n",
              "│ dropout (\u001b[38;5;33mDropout\u001b[0m)   │ (\u001b[38;5;45mNone\u001b[0m, \u001b[38;5;34m256\u001b[0m)       │          \u001b[38;5;34m0\u001b[0m │ dense_2[\u001b[38;5;34m0\u001b[0m][\u001b[38;5;34m0\u001b[0m]     │\n",
              "├─────────────────────┼───────────────────┼────────────┼───────────────────┤\n",
              "│ output (\u001b[38;5;33mDense\u001b[0m)      │ (\u001b[38;5;45mNone\u001b[0m, \u001b[38;5;34m2\u001b[0m)         │        \u001b[38;5;34m514\u001b[0m │ dropout[\u001b[38;5;34m0\u001b[0m][\u001b[38;5;34m0\u001b[0m]     │\n",
              "└─────────────────────┴───────────────────┴────────────┴───────────────────┘\n"
            ]
          },
          "metadata": {},
          "output_type": "display_data"
        },
        {
          "data": {
            "text/html": [
              "<pre style=\"white-space:pre;overflow-x:auto;line-height:normal;font-family:Menlo,'DejaVu Sans Mono',consolas,'Courier New',monospace\"><span style=\"font-weight: bold\"> Total params: </span><span style=\"color: #00af00; text-decoration-color: #00af00\">63,141,026</span> (240.86 MB)\n",
              "</pre>\n"
            ],
            "text/plain": [
              "\u001b[1m Total params: \u001b[0m\u001b[38;5;34m63,141,026\u001b[0m (240.86 MB)\n"
            ]
          },
          "metadata": {},
          "output_type": "display_data"
        },
        {
          "data": {
            "text/html": [
              "<pre style=\"white-space:pre;overflow-x:auto;line-height:normal;font-family:Menlo,'DejaVu Sans Mono',consolas,'Courier New',monospace\"><span style=\"font-weight: bold\"> Trainable params: </span><span style=\"color: #00af00; text-decoration-color: #00af00\">63,140,002</span> (240.86 MB)\n",
              "</pre>\n"
            ],
            "text/plain": [
              "\u001b[1m Trainable params: \u001b[0m\u001b[38;5;34m63,140,002\u001b[0m (240.86 MB)\n"
            ]
          },
          "metadata": {},
          "output_type": "display_data"
        },
        {
          "data": {
            "text/html": [
              "<pre style=\"white-space:pre;overflow-x:auto;line-height:normal;font-family:Menlo,'DejaVu Sans Mono',consolas,'Courier New',monospace\"><span style=\"font-weight: bold\"> Non-trainable params: </span><span style=\"color: #00af00; text-decoration-color: #00af00\">1,024</span> (4.00 KB)\n",
              "</pre>\n"
            ],
            "text/plain": [
              "\u001b[1m Non-trainable params: \u001b[0m\u001b[38;5;34m1,024\u001b[0m (4.00 KB)\n"
            ]
          },
          "metadata": {},
          "output_type": "display_data"
        }
      ],
      "source": [
        "img_input = Input(shape=(256, 256, 3), name='image_input')\n",
        "# CNN backbone\n",
        "tmp = Conv2D(32, (3,3), activation='relu')(img_input)\n",
        "tmp = MaxPooling2D((2,2))(tmp)\n",
        "tmp = Conv2D(32, (3,3), activation='relu')(tmp)\n",
        "tmp = MaxPooling2D((2,2))(tmp)\n",
        "tmp = Flatten()(tmp)\n",
        "\n",
        "# CDR input (single scalar)\n",
        "cdr_input = Input(shape=(1,), name='cdr_input')\n",
        "# --- Repeat CDR 32 times to create a feature vector ---\n",
        "cdr_tiled = Lambda(lambda t: tf.tile(t, [1, 32]), name='cdr_tile')(cdr_input)\n",
        "\n",
        "# Concatenate the CNN features with the tiled CDR vector\n",
        "merged = Concatenate(name='feature_concat')([tmp, cdr_tiled])\n",
        "\n",
        "# Dense head\n",
        "h = Dense(512, activation='relu', name='dense_1')(merged)\n",
        "h = BatchNormalization(name='bn_1')(h)\n",
        "h = Dense(256, activation='relu', name='dense_2')(h)\n",
        "h = Dropout(0.25, name='dropout')(h)\n",
        "outputs = Dense(num_classes, activation='softmax', name='output')(h)\n",
        "\n",
        "# Instantiate & compile\n",
        "classifier = Model(inputs=[img_input, cdr_input], outputs=outputs, name='GlaucomaNet')\n",
        "classifier.compile(\n",
        "    optimizer='adam',\n",
        "    loss='categorical_crossentropy',\n",
        "    metrics=['accuracy']\n",
        ")\n",
        "classifier.summary()"
      ]
    },
    {
      "cell_type": "code",
      "execution_count": 23,
      "metadata": {
        "colab": {
          "base_uri": "https://localhost:8080/",
          "height": 1000
        },
        "id": "O_t6Tef5q9Ov",
        "outputId": "2fcd5d0f-ebb1-4c32-f33c-c4745a0cf1d0"
      },
      "outputs": [
        {
          "name": "stdout",
          "output_type": "stream",
          "text": [
            "Epoch 1/30\n",
            "\u001b[1m18/18\u001b[0m \u001b[32m━━━━━━━━━━━━━━━━━━━━\u001b[0m\u001b[37m\u001b[0m \u001b[1m22s\u001b[0m 425ms/step - accuracy: 0.7137 - loss: 0.6164 - val_accuracy: 0.5634 - val_loss: 6.3598\n",
            "Epoch 2/30\n",
            "\u001b[1m18/18\u001b[0m \u001b[32m━━━━━━━━━━━━━━━━━━━━\u001b[0m\u001b[37m\u001b[0m \u001b[1m5s\u001b[0m 115ms/step - accuracy: 0.8692 - loss: 0.3026 - val_accuracy: 0.6761 - val_loss: 0.7135\n",
            "Epoch 3/30\n",
            "\u001b[1m18/18\u001b[0m \u001b[32m━━━━━━━━━━━━━━━━━━━━\u001b[0m\u001b[37m\u001b[0m \u001b[1m6s\u001b[0m 96ms/step - accuracy: 0.9113 - loss: 0.1840 - val_accuracy: 0.6620 - val_loss: 1.5737\n",
            "Epoch 4/30\n",
            "\u001b[1m18/18\u001b[0m \u001b[32m━━━━━━━━━━━━━━━━━━━━\u001b[0m\u001b[37m\u001b[0m \u001b[1m11s\u001b[0m 112ms/step - accuracy: 0.9518 - loss: 0.1437 - val_accuracy: 0.8028 - val_loss: 0.6976\n",
            "Epoch 5/30\n",
            "\u001b[1m18/18\u001b[0m \u001b[32m━━━━━━━━━━━━━━━━━━━━\u001b[0m\u001b[37m\u001b[0m \u001b[1m8s\u001b[0m 96ms/step - accuracy: 0.9446 - loss: 0.1519 - val_accuracy: 0.4507 - val_loss: 5.4200\n",
            "Epoch 6/30\n",
            "\u001b[1m18/18\u001b[0m \u001b[32m━━━━━━━━━━━━━━━━━━━━\u001b[0m\u001b[37m\u001b[0m \u001b[1m6s\u001b[0m 96ms/step - accuracy: 0.9214 - loss: 0.2089 - val_accuracy: 0.4789 - val_loss: 3.5972\n",
            "Epoch 7/30\n",
            "\u001b[1m18/18\u001b[0m \u001b[32m━━━━━━━━━━━━━━━━━━━━\u001b[0m\u001b[37m\u001b[0m \u001b[1m5s\u001b[0m 97ms/step - accuracy: 0.9402 - loss: 0.1192 - val_accuracy: 0.7887 - val_loss: 0.5583\n",
            "Epoch 8/30\n",
            "\u001b[1m18/18\u001b[0m \u001b[32m━━━━━━━━━━━━━━━━━━━━\u001b[0m\u001b[37m\u001b[0m \u001b[1m5s\u001b[0m 117ms/step - accuracy: 0.9459 - loss: 0.1253 - val_accuracy: 0.8451 - val_loss: 0.4276\n",
            "Epoch 9/30\n",
            "\u001b[1m18/18\u001b[0m \u001b[32m━━━━━━━━━━━━━━━━━━━━\u001b[0m\u001b[37m\u001b[0m \u001b[1m5s\u001b[0m 97ms/step - accuracy: 0.9756 - loss: 0.0921 - val_accuracy: 0.8732 - val_loss: 0.1939\n",
            "Epoch 10/30\n",
            "\u001b[1m18/18\u001b[0m \u001b[32m━━━━━━━━━━━━━━━━━━━━\u001b[0m\u001b[37m\u001b[0m \u001b[1m5s\u001b[0m 96ms/step - accuracy: 0.9802 - loss: 0.0545 - val_accuracy: 0.8310 - val_loss: 0.5551\n",
            "Epoch 11/30\n",
            "\u001b[1m18/18\u001b[0m \u001b[32m━━━━━━━━━━━━━━━━━━━━\u001b[0m\u001b[37m\u001b[0m \u001b[1m6s\u001b[0m 98ms/step - accuracy: 0.9841 - loss: 0.0337 - val_accuracy: 0.9577 - val_loss: 0.1022\n",
            "Epoch 12/30\n",
            "\u001b[1m18/18\u001b[0m \u001b[32m━━━━━━━━━━━━━━━━━━━━\u001b[0m\u001b[37m\u001b[0m \u001b[1m5s\u001b[0m 96ms/step - accuracy: 0.9770 - loss: 0.0472 - val_accuracy: 0.9437 - val_loss: 0.1964\n",
            "Epoch 13/30\n",
            "\u001b[1m18/18\u001b[0m \u001b[32m━━━━━━━━━━━━━━━━━━━━\u001b[0m\u001b[37m\u001b[0m \u001b[1m4s\u001b[0m 81ms/step - accuracy: 0.9834 - loss: 0.0408 - val_accuracy: 0.9437 - val_loss: 0.1797\n",
            "Epoch 14/30\n",
            "\u001b[1m18/18\u001b[0m \u001b[32m━━━━━━━━━━━━━━━━━━━━\u001b[0m\u001b[37m\u001b[0m \u001b[1m6s\u001b[0m 81ms/step - accuracy: 0.9672 - loss: 0.0857 - val_accuracy: 0.9155 - val_loss: 0.5385\n",
            "Epoch 15/30\n",
            "\u001b[1m18/18\u001b[0m \u001b[32m━━━━━━━━━━━━━━━━━━━━\u001b[0m\u001b[37m\u001b[0m \u001b[1m5s\u001b[0m 95ms/step - accuracy: 0.9798 - loss: 0.0725 - val_accuracy: 0.9296 - val_loss: 0.2033\n",
            "Epoch 16/30\n",
            "\u001b[1m18/18\u001b[0m \u001b[32m━━━━━━━━━━━━━━━━━━━━\u001b[0m\u001b[37m\u001b[0m \u001b[1m5s\u001b[0m 97ms/step - accuracy: 0.9920 - loss: 0.0306 - val_accuracy: 0.7606 - val_loss: 1.1541\n"
          ]
        },
        {
          "data": {
            "image/png": "[encoded data removed]",
            "text/plain": [
              "<Figure size 1200x500 with 2 Axes>"
            ]
          },
          "metadata": {},
          "output_type": "display_data"
        },
        {
          "name": "stdout",
          "output_type": "stream",
          "text": [
            "\u001b[1m3/3\u001b[0m \u001b[32m━━━━━━━━━━━━━━━━━━━━\u001b[0m\u001b[37m\u001b[0m \u001b[1m1s\u001b[0m 97ms/step - accuracy: 0.9781 - loss: 0.0598 \n",
            "Test loss: 0.0623, Test accuracy: 0.9718\n",
            "\u001b[1m1/1\u001b[0m \u001b[32m━━━━━━━━━━━━━━━━━━━━\u001b[0m\u001b[37m\u001b[0m \u001b[1m0s\u001b[0m 434ms/step\n",
            "\u001b[1m1/1\u001b[0m \u001b[32m━━━━━━━━━━━━━━━━━━━━\u001b[0m\u001b[37m\u001b[0m \u001b[1m0s\u001b[0m 64ms/step\n",
            "\u001b[1m1/1\u001b[0m \u001b[32m━━━━━━━━━━━━━━━━━━━━\u001b[0m\u001b[37m\u001b[0m \u001b[1m0s\u001b[0m 355ms/step\n"
          ]
        },
        {
          "data": {
            "image/png": "[encoded data removed]",
            "text/plain": [
              "<Figure size 640x480 with 2 Axes>"
            ]
          },
          "metadata": {},
          "output_type": "display_data"
        }
      ],
      "source": [
        "import numpy as np\n",
        "import matplotlib.pyplot as plt\n",
        "from sklearn.metrics import confusion_matrix, ConfusionMatrixDisplay\n",
        "from tensorflow.keras.callbacks import EarlyStopping\n",
        "\n",
        "# Early stopping callback\n",
        "early_stop = EarlyStopping(monitor='val_loss', patience=5, restore_best_weights=True)\n",
        "\n",
        "# Training the model with early stopping\n",
        "model_info = classifier.fit(\n",
        "    train_ds,\n",
        "    steps_per_epoch=int(np.ceil(len(train_image_paths) / batch_size)),\n",
        "    epochs=30,\n",
        "    validation_data=val_ds,\n",
        "    validation_steps=int(np.ceil(len(val_image_paths) / batch_size)),\n",
        "    callbacks=[early_stop]\n",
        ")\n",
        "\n",
        "# Plotting training & validation accuracy and loss\n",
        "plt.figure(figsize=(12, 5))\n",
        "\n",
        "# Accuracy\n",
        "plt.subplot(1, 2, 1)\n",
        "plt.plot(model_info.history['accuracy'], label='Training Accuracy')\n",
        "plt.plot(model_info.history['val_accuracy'], label='Validation Accuracy')\n",
        "plt.title('Accuracy over Epochs')\n",
        "plt.xlabel('Epoch')\n",
        "plt.ylabel('Accuracy')\n",
        "plt.legend()\n",
        "\n",
        "# Loss\n",
        "plt.subplot(1, 2, 2)\n",
        "plt.plot(model_info.history['loss'], label='Training Loss')\n",
        "plt.plot(model_info.history['val_loss'], label='Validation Loss')\n",
        "plt.title('Loss over Epochs')\n",
        "plt.xlabel('Epoch')\n",
        "plt.ylabel('Loss')\n",
        "plt.legend()\n",
        "\n",
        "plt.tight_layout()\n",
        "plt.show()\n",
        "\n",
        "# Testing\n",
        "test_metrics = classifier.evaluate(\n",
        "    test_ds,\n",
        "    steps=int(np.ceil(len(test_image_paths) / batch_size))\n",
        ")\n",
        "print(f\"Test loss: {test_metrics[0]:.4f}, Test accuracy: {test_metrics[1]:.4f}\")\n",
        "\n",
        "# Generate predictions and labels for confusion matrix\n",
        "y_pred = []\n",
        "y_true = []\n",
        "\n",
        "for images, labels in test_ds:\n",
        "    preds = classifier.predict(images)\n",
        "    y_pred.extend(np.argmax(preds, axis=1))\n",
        "    y_true.extend(np.argmax(labels.numpy(), axis=1))  # Assuming one-hot encoded labels\n",
        "\n",
        "# Confusion Matrix\n",
        "cm = confusion_matrix(y_true, y_pred)\n",
        "disp = ConfusionMatrixDisplay(confusion_matrix=cm)\n",
        "disp.plot(cmap=plt.cm.Blues)\n",
        "plt.title(\"Confusion Matrix\")\n",
        "plt.show()\n"
      ]
    }
  ],
  "metadata": {
    "accelerator": "GPU",
    "colab": {
      "gpuType": "T4",
      "provenance": []
    },
    "kaggle": {
      "accelerator": "nvidiaTeslaT4",
      "dataSources": [
        {
          "datasetId": 2407489,
          "sourceId": 4066883,
          "sourceType": "datasetVersion"
        }
      ],
      "dockerImageVersionId": 30558,
      "isGpuEnabled": true,
      "isInternetEnabled": false,
      "language": "python",
      "sourceType": "notebook"
    },
    "kernelspec": {
      "display_name": "Python 3",
      "name": "python3"
    },
    "language_info": {
      "codemirror_mode": {
        "name": "ipython",
        "version": 3
      },
      "file_extension": ".py",
      "mimetype": "text/x-python",
      "name": "python",
      "nbconvert_exporter": "python",
      "pygments_lexer": "ipython3",
      "version": "3.10.12"
    }
  },
  "nbformat": 4,
  "nbformat_minor": 0
}
