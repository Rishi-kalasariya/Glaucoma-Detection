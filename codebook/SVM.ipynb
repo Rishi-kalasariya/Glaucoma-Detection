{
  "cells": [
    {
      "cell_type": "code",
      "execution_count": null,
      "metadata": {
        "colab": {
          "base_uri": "https://localhost:8080/"
        },
        "id": "0GTSxs4utss4",
        "outputId": "0155950b-0f32-4a49-bd20-c92bb59476e4"
      },
      "outputs": [
        {
          "name": "stdout",
          "output_type": "stream",
          "text": [
            "Mounted at /content/drive\n"
          ]
        }
      ],
      "source": [
        "›from google.colab import drive\n",
        "drive.mount('/content/drive')"
      ]
    },
    {
      "cell_type": "code",
      "execution_count": null,
      "metadata": {
        "colab": {
          "base_uri": "https://localhost:8080/"
        },
        "id": "cR7LhOvCmnLL",
        "outputId": "8ba9477d-d8e0-476a-9535-cd5b61b93397"
      },
      "outputs": [
        {
          "name": "stdout",
          "output_type": "stream",
          "text": [
            "Requirement already satisfied: scikit-learn in /usr/local/lib/python3.11/dist-packages (1.6.1)\n",
            "Requirement already satisfied: numpy>=1.19.5 in /usr/local/lib/python3.11/dist-packages (from scikit-learn) (2.0.2)\n",
            "Requirement already satisfied: scipy>=1.6.0 in /usr/local/lib/python3.11/dist-packages (from scikit-learn) (1.15.2)\n",
            "Requirement already satisfied: joblib>=1.2.0 in /usr/local/lib/python3.11/dist-packages (from scikit-learn) (1.4.2)\n",
            "Requirement already satisfied: threadpoolctl>=3.1.0 in /usr/local/lib/python3.11/dist-packages (from scikit-learn) (3.6.0)\n"
          ]
        }
      ],
      "source": [
        "!pip install scikit-learn\n",
        "import os\n",
        "import numpy as np\n",
        "import cv2\n",
        "from sklearn.decomposition import PCA\n",
        "from sklearn.svm import SVC\n",
        "from sklearn.model_selection import StratifiedKFold, cross_val_score, train_test_split\n",
        "from sklearn.preprocessing import StandardScaler\n",
        "from sklearn.metrics import accuracy_score, recall_score, precision_score, confusion_matrix\n",
        "from sklearn.model_selection import GridSearchCV\n",
        "import matplotlib.pyplot as plt\n",
        "import seaborn as sns\n",
        "from sklearn.metrics import confusion_matrix, ConfusionMatrixDisplay"
      ]
    },
    {
      "cell_type": "code",
      "execution_count": null,
      "metadata": {
        "id": "rrZqFoHMllzF"
      },
      "outputs": [],
      "source": [
        "def load_images_from_folder(folder_path):\n",
        "    images = []\n",
        "    for fname in os.listdir(folder_path):\n",
        "        if fname.lower().endswith(('.png', '.jpg', '.jpeg', '.bmp', '.tif', '.tiff')):\n",
        "            img = cv2.imread(os.path.join(folder_path, fname))\n",
        "            if img is not None:\n",
        "                images.append(img)\n",
        "    return images"
      ]
    },
    {
      "cell_type": "code",
      "execution_count": null,
      "metadata": {
        "id": "ciaqe1NFlp8z"
      },
      "outputs": [],
      "source": [
        "def preprocess_image(img):\n",
        "    # RGB normalize\n",
        "    img_rgb = cv2.cvtColor(img, cv2.COLOR_BGR2RGB).astype(np.float32) / 255.0\n",
        "    # Grayscale & uint8\n",
        "    gray = cv2.cvtColor((img_rgb * 255).astype(np.uint8), cv2.COLOR_RGB2GRAY)\n",
        "    # Resize\n",
        "    gray = cv2.resize(gray, (256, 256), interpolation=cv2.INTER_AREA)\n",
        "    # Denoise\n",
        "    blurred = cv2.GaussianBlur(gray, (5,5), sigmaX=0)\n",
        "    # CLAHE contrast\n",
        "    clahe = cv2.createCLAHE(clipLimit=2.0, tileGridSize=(8,8))\n",
        "    enhanced = clahe.apply(blurred)\n",
        "    # Flatten & normalize feature vector\n",
        "    return (enhanced.astype(np.float32).ravel() / 255.0)"
      ]
    },
    {
      "cell_type": "code",
      "execution_count": null,
      "metadata": {
        "colab": {
          "base_uri": "https://localhost:8080/",
          "height": 681
        },
        "id": "HyCW3otNIpIe",
        "outputId": "5b80d505-99f9-4fa8-c8da-9143277c8e3f"
      },
      "outputs": [
        {
          "name": "stdout",
          "output_type": "stream",
          "text": [
            "Total samples: 705 (Normal=309, Glaucoma=396)\n",
            "PCA reduced dimension -> 239 components\n",
            "Train/Test split: 564 train, 141 test\n",
            "Best SVM parameters found: {'C': 10, 'gamma': 0.001, 'kernel': 'rbf'}\n",
            "\n",
            "Test Accuracy:           72.34%\n",
            "Sensitivity (Recall+):   81.01%\n",
            "Specificity (Recall-):   61.29%\n",
            "PPV (Precision+):        72.73%\n",
            "NPV (Precision-):        71.70%\n"
          ]
        },
        {
          "data": {
            "image/png": "[encoded data removed]",
            "text/plain": [
              "<Figure size 600x500 with 2 Axes>"
            ]
          },
          "metadata": {},
          "output_type": "display_data"
        }
      ],
      "source": [
        "\n",
        "    normal_imgs   = load_images_from_folder('/content/drive/MyDrive/Leetcode images/datasets/ACRIMA/normal')\n",
        "    glaucoma_imgs = load_images_from_folder('/content/drive/MyDrive/Leetcode images/datasets/ACRIMA/glaucoma')\n",
        "\n",
        "    X, y = [], []\n",
        "    for img in normal_imgs:\n",
        "        X.append(preprocess_image(img)); y.append(0)\n",
        "    for img in glaucoma_imgs:\n",
        "        X.append(preprocess_image(img)); y.append(1)\n",
        "\n",
        "    X = np.array(X)\n",
        "    y = np.array(y)\n",
        "    print(f\"Total samples: {len(y)} (Normal={np.sum(y==0)}, Glaucoma={np.sum(y==1)})\")\n",
        "\n",
        "    # PCA: retain 95% variance\n",
        "    pca = PCA(n_components=0.95, svd_solver='auto')\n",
        "    X_pca = pca.fit_transform(X)\n",
        "    print(f\"PCA reduced dimension -> {X_pca.shape[1]} components\")\n",
        "\n",
        "    # Standardize features\n",
        "    scaler = StandardScaler()\n",
        "    X_scaled = scaler.fit_transform(X_pca)\n",
        "\n",
        "    # Train-test split (80/20)\n",
        "    X_train, X_test, y_train, y_test = train_test_split(\n",
        "        X_scaled, y, test_size=0.2, random_state=42, stratify=y\n",
        "    )\n",
        "    print(f\"Train/Test split: {len(y_train)} train, {len(y_test)} test\")\n",
        "\n",
        "    # Grid search on training set\n",
        "    param_grid = {\n",
        "        #Regularization\n",
        "        'C': [0.1, 1, 10, 100],\n",
        "        'gamma': [0.001, 0.01, 0.1, 1],\n",
        "        'kernel': ['rbf']\n",
        "    }\n",
        "\n",
        "    #cross validation with 5 fold and use all the CPU cores\n",
        "    grid = GridSearchCV(SVC(), param_grid, cv=5, scoring='accuracy', n_jobs=-1)\n",
        "    grid.fit(X_train, y_train)\n",
        "    print(\"Best SVM parameters found:\", grid.best_params_)\n",
        "\n",
        "    # Retrain with best params on full training set\n",
        "    best_svm = grid.best_estimator_\n",
        "    best_svm.fit(X_train, y_train)\n",
        "\n",
        "    # Predict on test set\n",
        "    y_pred = best_svm.predict(X_test)\n",
        "\n",
        "    # Metrics\n",
        "    acc = accuracy_score(y_test, y_pred)\n",
        "    sens = recall_score(y_test, y_pred, pos_label=1)\n",
        "    spec = recall_score(y_test, y_pred, pos_label=0)\n",
        "    ppv  = precision_score(y_test, y_pred, pos_label=1)\n",
        "    npv  = precision_score(y_test, y_pred, pos_label=0)\n",
        "    cm   = confusion_matrix(y_test, y_pred)\n",
        "\n",
        "    print(f\"\\nTest Accuracy:           {acc*100:.2f}%\")\n",
        "    print(f\"Sensitivity (Recall+):   {sens*100:.2f}%\")\n",
        "    print(f\"Specificity (Recall-):   {spec*100:.2f}%\")\n",
        "    print(f\"PPV (Precision+):        {ppv*100:.2f}%\")\n",
        "    print(f\"NPV (Precision-):        {npv*100:.2f}%\")\n",
        "    # Assuming y_test and y_pred are already defined\n",
        "    cm = confusion_matrix(y_test, y_pred)\n",
        "\n",
        "    # Optional: Define class labels\n",
        "    labels = ['Normal', 'Glaucoma']\n",
        "\n",
        "    # Plot confusion matrix using seaborn\n",
        "    plt.figure(figsize=(6, 5))\n",
        "    sns.heatmap(cm, annot=True, fmt='d', cmap='Blues', xticklabels=labels, yticklabels=labels)\n",
        "    plt.title(\"Confusion Matrix\")\n",
        "    plt.xlabel(\"Predicted\")\n",
        "    plt.ylabel(\"Actual\")\n",
        "    plt.tight_layout()\n",
        "    plt.show()"
      ]
    },
    {
      "cell_type": "code",
      "execution_count": null,
      "metadata": {
        "colab": {
          "background_save": true
        },
        "id": "Yrk5LIBGA7N7",
        "outputId": "1f4b554b-895f-47c0-a7c6-2359582ee8fb"
      },
      "outputs": [
        {
          "name": "stdout",
          "output_type": "stream",
          "text": [
            "\n",
            "Prediction for Image 1 (/content/drive/MyDrive/Leetcode images/datasets/RIM_ONE/glaucoma/83.png): Glaucoma\n",
            "Prediction for Image 2 (/content/drive/MyDrive/Leetcode images/datasets/RIM_ONE/normal/200.png): Normal\n"
          ]
        }
      ],
      "source": [
        "import os\n",
        "import random\n",
        "from skimage.io import imread\n",
        "from skimage.transform import resize\n",
        "import numpy as np\n",
        "from skimage.color import rgb2gray\n",
        "\n",
        "def preprocess_image(img):\n",
        "    img_gray = rgb2gray(img)  # Ensure grayscale\n",
        "    img_resized = resize(img_gray, (256, 256), anti_aliasing=True)\n",
        "    return img_resized.flatten()\n",
        "\n",
        "# Paths to folders (replace these with actual folder paths)\n",
        "folder1 = '/content/drive/MyDrive/Leetcode images/datasets/RIM_ONE/glaucoma'\n",
        "folder2 = '/content/drive/MyDrive/Leetcode images/datasets/RIM_ONE/normal'\n",
        "\n",
        "# Pick a random image from each folder\n",
        "image1_path = os.path.join(folder1, random.choice(os.listdir(folder1)))\n",
        "image2_path = os.path.join(folder2, random.choice(os.listdir(folder2)))\n",
        "\n",
        "# Load and preprocess the images\n",
        "img1 = preprocess_image(imread(image1_path))\n",
        "img2 = preprocess_image(imread(image2_path))\n",
        "\n",
        "# Apply PCA and then scaling (this is the correct order if you trained your model this way)\n",
        "img1_pca = scaler.transform(pca.transform([img1]))\n",
        "img2_pca = scaler.transform(pca.transform([img2]))\n",
        "\n",
        "# Predict\n",
        "pred1 = best_svm.predict(img1_pca)[0]\n",
        "pred2 = best_svm.predict(img2_pca)[0]\n",
        "# Output predictions\n",
        "print(f\"\\nPrediction for Image 1 ({image1_path}): {'Glaucoma' if pred1 == 1 else 'Normal'}\")\n",
        "print(f\"Prediction for Image 2 ({image2_path}): {'Glaucoma' if pred2 == 1 else 'Normal'}\")"
      ]
    }
  ],
  "metadata": {
    "accelerator": "GPU",
    "colab": {
      "gpuType": "T4",
      "provenance": []
    },
    "kernelspec": {
      "display_name": "Python 3",
      "name": "python3"
    },
    "language_info": {
      "name": "python"
    }
  },
  "nbformat": 4,
  "nbformat_minor": 0
}